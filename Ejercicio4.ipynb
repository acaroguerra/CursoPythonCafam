{
  "nbformat": 4,
  "nbformat_minor": 0,
  "metadata": {
    "colab": {
      "provenance": [],
      "authorship_tag": "ABX9TyPce1nRCslR9/SCV5+A0N2G",
      "include_colab_link": true
    },
    "kernelspec": {
      "name": "python3",
      "display_name": "Python 3"
    },
    "language_info": {
      "name": "python"
    }
  },
  "cells": [
    {
      "cell_type": "markdown",
      "metadata": {
        "id": "view-in-github",
        "colab_type": "text"
      },
      "source": [
        "<a href=\"https://colab.research.google.com/github/acaroguerra/CursoPythonCafam/blob/main/Ejercicio4.ipynb\" target=\"_parent\"><img src=\"https://colab.research.google.com/assets/colab-badge.svg\" alt=\"Open In Colab\"/></a>"
      ]
    },
    {
      "cell_type": "code",
      "execution_count": 5,
      "metadata": {
        "colab": {
          "base_uri": "https://localhost:8080/",
          "height": 106
        },
        "id": "TkVtwkTStzRU",
        "outputId": "d1463865-2af5-4dd4-f4b4-847b54386bf5"
      },
      "outputs": [
        {
          "output_type": "error",
          "ename": "SyntaxError",
          "evalue": "invalid syntax (<ipython-input-5-07aaa398a6f1>, line 1)",
          "traceback": [
            "\u001b[0;36m  File \u001b[0;32m\"<ipython-input-5-07aaa398a6f1>\"\u001b[0;36m, line \u001b[0;32m1\u001b[0m\n\u001b[0;31m    **CLASE 4**\u001b[0m\n\u001b[0m    ^\u001b[0m\n\u001b[0;31mSyntaxError\u001b[0m\u001b[0;31m:\u001b[0m invalid syntax\n"
          ]
        }
      ],
      "source": [
        "\n",
        "\n",
        "# Diccionario para almacenar el inventario Carolina Guerra\n",
        "inventario = {}\n",
        "\n",
        "\n",
        "def agregar_producto(nombre, cantidad):\n",
        "    if nombre in inventario:\n",
        "        inventario[nombre] += cantidad\n",
        "    else:\n",
        "        inventario[nombre] = cantidad\n",
        "    print(f\"Producto {nombre} agregado/actualizado con éxito.\")\n",
        "\n",
        "\n",
        "def actualizar_cantidad(nombre, cantidad):\n",
        "    if nombre in inventario:\n",
        "        inventario[nombre] = cantidad\n",
        "        print(f\"Cantidad del producto {nombre} actualizada a {cantidad}.\")\n",
        "    else:\n",
        "        print(f\"El producto {nombre} no existe en el inventario.\")\n",
        "\n",
        "\n",
        "def mostrar_inventario():\n",
        "    if inventario:\n",
        "        print(\"Inventario actual:\")\n",
        "        for producto, cantidad in inventario.items():\n",
        "            print(f\"- {producto}: {cantidad}\")\n",
        "    else:\n",
        "        print(\"El inventario está vacío.\")\n",
        "\n",
        "\n",
        "while True:\n",
        "    print(\"\\n--- Gestión de Inventario ---\")\n",
        "    print(\"1. Agregar/Actualizar Producto\")\n",
        "    print(\"2. Actualizar Cantidad de un Producto\")\n",
        "    print(\"3. Mostrar Inventario\")\n",
        "    print(\"4. Salir\")\n",
        "\n",
        "    opcion = input(\"Selecciona una opción (1-4): \")\n",
        "\n",
        "    if opcion == '1':\n",
        "        nombre_producto = input(\"Introduce el nombre del producto: \")\n",
        "        cantidad_producto = int(input(f\"Introduce la cantidad para {nombre_producto}: \"))\n",
        "        agregar_producto(nombre_producto, cantidad_producto)\n",
        "\n",
        "    elif opcion == '2':\n",
        "        nombre_producto = input(\"Introduce el nombre del producto: \")\n",
        "        cantidad_producto = int(input(f\"Introduce la nueva cantidad para {nombre_producto}: \"))\n",
        "        actualizar_cantidad(nombre_producto, cantidad_producto)\n",
        "\n",
        "    elif opcion == '3':\n",
        "        mostrar_inventario()\n",
        "\n",
        "    elif opcion == '4':\n",
        "        print(\"Saliendo del sistema de inventario.\")\n",
        "        break\n",
        "\n",
        "    else:\n",
        "        print(\"Opción no válida. Por favor, selecciona una opción del 1 al 4.\")\n"
      ]
    }
  ]
}